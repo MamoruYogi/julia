{
 "cells": [
  {
   "cell_type": "code",
   "execution_count": 2,
   "metadata": {},
   "outputs": [
    {
     "name": "stdout",
     "output_type": "stream",
     "text": [
      "  5.967867 seconds (200.00 M allocations: 2.980 GiB, 1.72% gc time)\n",
      "5000000050000000"
     ]
    }
   ],
   "source": [
    "a = 0\n",
    "@time for x in 1:100_000_000\n",
    "    global a\n",
    "    a += x\n",
    "end\n",
    "print(a)"
   ]
  },
  {
   "cell_type": "code",
   "execution_count": 4,
   "metadata": {},
   "outputs": [
    {
     "name": "stdout",
     "output_type": "stream",
     "text": [
      "  0.007244 seconds (18.28 k allocations: 1.050 MiB)\n",
      "5000000050000000"
     ]
    }
   ],
   "source": [
    "a=0\n",
    "function f(a)\n",
    "    for x in 1:100_000_000\n",
    "        a += x\n",
    "    end\n",
    "    return a\n",
    "end\n",
    "\n",
    "@time b = f(a)\n",
    "print(b)"
   ]
  },
  {
   "cell_type": "code",
   "execution_count": 5,
   "metadata": {},
   "outputs": [
    {
     "name": "stdout",
     "output_type": "stream",
     "text": [
      " 17.668521 seconds (500.01 M allocations: 11.921 GiB, 8.15% gc time)\n"
     ]
    },
    {
     "data": {
      "text/plain": [
       "1.0000001973920172 + 8.725669089740029e-15im"
      ]
     },
     "execution_count": 5,
     "metadata": {},
     "output_type": "execute_result"
    }
   ],
   "source": [
    "N = 10^8\n",
    "h = 2π/N\n",
    "y = 1.0 + 0.0im           # ← y を複素数の 1 で初期化\n",
    "@time for i in 1:N\n",
    "    global y\n",
    "    y += h*im*y           # Julia言語では虚数単位を im と書く\n",
    "end\n",
    "y"
   ]
  },
  {
   "cell_type": "code",
   "execution_count": 7,
   "metadata": {},
   "outputs": [
    {
     "name": "stdout",
     "output_type": "stream",
     "text": [
      "  0.404253 seconds (5 allocations: 192 bytes)\n",
      "#= In[7]:12 =# @time(test_of_integration()) = 1.0000001973920172 + 8.725669089740029e-15im\n"
     ]
    },
    {
     "data": {
      "text/plain": [
       "1.0000001973920172 + 8.725669089740029e-15im"
      ]
     },
     "execution_count": 7,
     "metadata": {},
     "output_type": "execute_result"
    }
   ],
   "source": [
    "function test_of_integration()\n",
    "    N = 10^8\n",
    "    h = 2π/N\n",
    "    y = 1.0 + 0.0im           # ← y を複素数の 1 で初期化\n",
    "    for i in 1:N\n",
    "        y += h*im*y\n",
    "    end\n",
    "    y\n",
    "end\n",
    "\n",
    "test_of_integration()\n",
    "@show @time test_of_integration()"
   ]
  }
 ],
 "metadata": {
  "kernelspec": {
   "display_name": "Julia 1.3.1",
   "language": "julia",
   "name": "julia-1.3"
  },
  "language_info": {
   "file_extension": ".jl",
   "mimetype": "application/julia",
   "name": "julia",
   "version": "1.3.1"
  }
 },
 "nbformat": 4,
 "nbformat_minor": 4
}
