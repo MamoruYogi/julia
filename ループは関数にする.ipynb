{
 "cells": [
  {
   "cell_type": "markdown",
   "metadata": {},
   "source": [
    "# ループ計算と関数  \n",
    "\n",
    "いろいろなところで説明されているように、Juliaでは関数で書かないと速度が出ません。  \n",
    "下記に$1$から$10^8$まで足していく計算例を示します。  \n",
    "書き方により差は出ますが、数百倍以上の差があります。"
   ]
  },
  {
   "cell_type": "code",
   "execution_count": 4,
   "metadata": {},
   "outputs": [
    {
     "name": "stdout",
     "output_type": "stream",
     "text": [
      " 10.939243 seconds (400.00 M allocations: 7.451 GiB, 3.53% gc time)\n",
      "5000000050000000"
     ]
    }
   ],
   "source": [
    "a = 0\n",
    "N0 = 10^8\n",
    "@time for x in 1:N0\n",
    "    global a\n",
    "    a += x\n",
    "end\n",
    "print(a)"
   ]
  },
  {
   "cell_type": "code",
   "execution_count": 5,
   "metadata": {},
   "outputs": [
    {
     "name": "stdout",
     "output_type": "stream",
     "text": [
      "  0.007107 seconds (16.18 k allocations: 881.179 KiB)\n",
      "5000000050000000"
     ]
    }
   ],
   "source": [
    "a = 0\n",
    "N0 = 10^8\n",
    "function f(a, N0)\n",
    "    a = 0\n",
    "    for x in 1:N0\n",
    "        a += x\n",
    "    end\n",
    "    return a\n",
    "end\n",
    "\n",
    "@time b = f(a, N0)\n",
    "print(b)"
   ]
  }
 ],
 "metadata": {
  "kernelspec": {
   "display_name": "Julia 1.3.1",
   "language": "julia",
   "name": "julia-1.3"
  },
  "language_info": {
   "file_extension": ".jl",
   "mimetype": "application/julia",
   "name": "julia",
   "version": "1.3.1"
  }
 },
 "nbformat": 4,
 "nbformat_minor": 4
}
