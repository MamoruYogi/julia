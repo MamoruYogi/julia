{
 "cells": [
  {
   "cell_type": "markdown",
   "metadata": {},
   "source": [
    "# ループ計算と関数  \n",
    "\n",
    "いろいろなところで説明されているように、Juliaでは関数で書かないと速度が出ません。  \n",
    "下記に1からNまで足していく計算例を示します。  \n",
    "1000倍ぐらい差があります。"
   ]
  },
  {
   "cell_type": "code",
   "execution_count": 1,
   "metadata": {},
   "outputs": [
    {
     "name": "stdout",
     "output_type": "stream",
     "text": [
      " 10.826574 seconds (400.00 M allocations: 7.451 GiB, 4.13% gc time)\n",
      "5000000050000000"
     ]
    }
   ],
   "source": [
    "a = 0\n",
    "N = 10^8\n",
    "@time for x in 1:N\n",
    "    global a\n",
    "    a += x\n",
    "end\n",
    "print(a)"
   ]
  },
  {
   "cell_type": "code",
   "execution_count": 2,
   "metadata": {},
   "outputs": [
    {
     "name": "stdout",
     "output_type": "stream",
     "text": [
      "  0.008354 seconds (36.60 k allocations: 2.048 MiB)\n",
      "5000000050000000"
     ]
    }
   ],
   "source": [
    "a=0\n",
    "function f(a)\n",
    "    for x in 1:10^8\n",
    "        a += x\n",
    "    end\n",
    "    return a\n",
    "end\n",
    "\n",
    "@time b = f(a)\n",
    "print(b)"
   ]
  }
 ],
 "metadata": {
  "kernelspec": {
   "display_name": "Julia 1.3.1",
   "language": "julia",
   "name": "julia-1.3"
  },
  "language_info": {
   "file_extension": ".jl",
   "mimetype": "application/julia",
   "name": "julia",
   "version": "1.3.1"
  }
 },
 "nbformat": 4,
 "nbformat_minor": 4
}
